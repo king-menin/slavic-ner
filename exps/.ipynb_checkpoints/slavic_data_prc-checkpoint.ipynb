{
 "cells": [
  {
   "cell_type": "code",
   "execution_count": 2,
   "metadata": {},
   "outputs": [
    {
     "name": "stdout",
     "output_type": "stream",
     "text": [
      "The autoreload extension is already loaded. To reload it, use:\n",
      "  %reload_ext autoreload\n",
      "Populating the interactive namespace from numpy and matplotlib\n"
     ]
    }
   ],
   "source": [
    "%load_ext autoreload\n",
    "\n",
    "%autoreload 2\n",
    "%pylab inline\n",
    "from matplotlib import pyplot as plt"
   ]
  },
  {
   "cell_type": "code",
   "execution_count": 4,
   "metadata": {},
   "outputs": [],
   "source": [
    "import pandas as pd"
   ]
  },
  {
   "cell_type": "code",
   "execution_count": 5,
   "metadata": {},
   "outputs": [],
   "source": [
    "import sys"
   ]
  },
  {
   "cell_type": "code",
   "execution_count": 30,
   "metadata": {},
   "outputs": [],
   "source": [
    "sys.path.append(\"/home/eartemov/ae/work/AGRR-2019/\")"
   ]
  },
  {
   "cell_type": "code",
   "execution_count": 31,
   "metadata": {},
   "outputs": [],
   "source": [
    "data_dir = \"~/ae/work/data/training_data_v10/processed/\"\n",
    "train_path = data_dir + \"brexit.csv\"\n",
    "valid_path = data_dir + \"asia_bibi.csv\""
   ]
  },
  {
   "cell_type": "code",
   "execution_count": 32,
   "metadata": {},
   "outputs": [],
   "source": [
    "tr = pd.read_csv(train_path)"
   ]
  },
  {
   "cell_type": "code",
   "execution_count": 33,
   "metadata": {},
   "outputs": [],
   "source": [
    "tr = pd.read_csv(train_path)\n",
    "tr = tr.dropna()"
   ]
  },
  {
   "cell_type": "code",
   "execution_count": 34,
   "metadata": {},
   "outputs": [
    {
     "data": {
      "text/html": [
       "<div>\n",
       "<style scoped>\n",
       "    .dataframe tbody tr th:only-of-type {\n",
       "        vertical-align: middle;\n",
       "    }\n",
       "\n",
       "    .dataframe tbody tr th {\n",
       "        vertical-align: top;\n",
       "    }\n",
       "\n",
       "    .dataframe thead th {\n",
       "        text-align: right;\n",
       "    }\n",
       "</style>\n",
       "<table border=\"1\" class=\"dataframe\">\n",
       "  <thead>\n",
       "    <tr style=\"text-align: right;\">\n",
       "      <th></th>\n",
       "      <th>doc_idxs</th>\n",
       "      <th>tokens</th>\n",
       "      <th>tags</th>\n",
       "      <th>clidxs</th>\n",
       "      <th>base_forms</th>\n",
       "    </tr>\n",
       "  </thead>\n",
       "  <tbody>\n",
       "    <tr>\n",
       "      <th>0</th>\n",
       "      <td>pl-1863</td>\n",
       "      <td>Foto : Shutterstock s w Wielkiej Brytanii</td>\n",
       "      <td>O O B_PRO O O B_LOC I_LOC</td>\n",
       "      <td>O O B_PRO-Shutterstock O O B_GPE-Great-Britain...</td>\n",
       "      <td>O O Shutterstock O O Wielka Brytania</td>\n",
       "    </tr>\n",
       "    <tr>\n",
       "      <th>1</th>\n",
       "      <td>pl-1863</td>\n",
       "      <td>skrzydła do A380 ego pasażerskiego samolotu na...</td>\n",
       "      <td>O O B_PRO O O O O O O</td>\n",
       "      <td>O O B_PRO-Airbus-A380 O O O O O O</td>\n",
       "      <td>O O A380 O O O O O O</td>\n",
       "    </tr>\n",
       "    <tr>\n",
       "      <th>2</th>\n",
       "      <td>pl-1863</td>\n",
       "      <td>Airbus rozważa wycofanie się z planów produkcj...</td>\n",
       "      <td>B_ORG O O O O O O O O O O O O O O</td>\n",
       "      <td>B_ORG-Airbus-SE O O O O O O O O O O O O O O</td>\n",
       "      <td>Airbus O O O O O O O O O O O O O O</td>\n",
       "    </tr>\n",
       "    <tr>\n",
       "      <th>3</th>\n",
       "      <td>pl-1863</td>\n",
       "      <td>Powód to niestabilność związaną z Brexit ii z ...</td>\n",
       "      <td>O O O O O B_EVT O O B_ORG I_ORG</td>\n",
       "      <td>O O O O O B_EVT-Brexit O O B_ORG-European-Unio...</td>\n",
       "      <td>O O O O O Brexit O O Unia Europejska</td>\n",
       "    </tr>\n",
       "    <tr>\n",
       "      <th>4</th>\n",
       "      <td>pl-1863</td>\n",
       "      <td>rocznie wpłaca do brytyjskiego budżetu blisko ...</td>\n",
       "      <td>O O O O O O O O O O O O O O O O</td>\n",
       "      <td>O O O O O O O O O O O O O O O O</td>\n",
       "      <td>O O O O O O O O O O O O O O O O</td>\n",
       "    </tr>\n",
       "  </tbody>\n",
       "</table>\n",
       "</div>"
      ],
      "text/plain": [
       "  doc_idxs                                             tokens  \\\n",
       "0  pl-1863          Foto : Shutterstock s w Wielkiej Brytanii   \n",
       "1  pl-1863  skrzydła do A380 ego pasażerskiego samolotu na...   \n",
       "2  pl-1863  Airbus rozważa wycofanie się z planów produkcj...   \n",
       "3  pl-1863  Powód to niestabilność związaną z Brexit ii z ...   \n",
       "4  pl-1863  rocznie wpłaca do brytyjskiego budżetu blisko ...   \n",
       "\n",
       "                                tags  \\\n",
       "0          O O B_PRO O O B_LOC I_LOC   \n",
       "1              O O B_PRO O O O O O O   \n",
       "2  B_ORG O O O O O O O O O O O O O O   \n",
       "3    O O O O O B_EVT O O B_ORG I_ORG   \n",
       "4    O O O O O O O O O O O O O O O O   \n",
       "\n",
       "                                              clidxs  \\\n",
       "0  O O B_PRO-Shutterstock O O B_GPE-Great-Britain...   \n",
       "1                  O O B_PRO-Airbus-A380 O O O O O O   \n",
       "2        B_ORG-Airbus-SE O O O O O O O O O O O O O O   \n",
       "3  O O O O O B_EVT-Brexit O O B_ORG-European-Unio...   \n",
       "4                    O O O O O O O O O O O O O O O O   \n",
       "\n",
       "                             base_forms  \n",
       "0  O O Shutterstock O O Wielka Brytania  \n",
       "1                  O O A380 O O O O O O  \n",
       "2    Airbus O O O O O O O O O O O O O O  \n",
       "3  O O O O O Brexit O O Unia Europejska  \n",
       "4       O O O O O O O O O O O O O O O O  "
      ]
     },
     "execution_count": 34,
     "metadata": {},
     "output_type": "execute_result"
    }
   ],
   "source": [
    "tr.head()"
   ]
  },
  {
   "cell_type": "code",
   "execution_count": 29,
   "metadata": {},
   "outputs": [],
   "source": [
    "def group_sents_in_sample(df, n_grouped=3, max_tokens_len=250, other_cat=\"O\"):\n",
    "    res_info = dict()\n",
    "    res_info[\"tokens\"] = []\n",
    "    res_info[\"tags\"] = []\n",
    "    res_info[\"clidxs\"] = []\n",
    "    res_info[\"base_forms\"] = []\n",
    "    res_info[\"doc_idxs\"] = []\n",
    "    for doc_idx, group in df.groupby(\"doc_idxs\"):\n",
    "        l = [r for _, r in group.iterrows()]\n",
    "        for grouped in list(zip(*[iter(l[idx:]) for idx in range(n_grouped)])):\n",
    "            tokens = []\n",
    "            tags = []\n",
    "            clidxs = []\n",
    "            base_forms = []\n",
    "            class G(object):\n",
    "                pass\n",
    "            g = G()\n",
    "            g.tokens = list([gg.tokens for gg in grouped])\n",
    "            g.tags = list([gg.tags for gg in grouped])\n",
    "            g.clidxs = list([gg.clidxs for gg in grouped])\n",
    "            g.base_forms = list([gg.base_forms for gg in grouped])\n",
    "            for tok, tag, clidx, base_form in zip(g.tokens, g.tags, g.clidxs, g.base_forms):\n",
    "                tok = tok.split()\n",
    "                tag = tag.split()\n",
    "                clidx = clidx.split()\n",
    "                base_form = base_form.split()\n",
    "                if len(tokens) + len(tok) < max_tokens_len:\n",
    "                    tokens.extend(tok)\n",
    "                    tags.extend(tag)\n",
    "                    clidxs.extend(clidx)\n",
    "                    if tok[-1] != \".\":\n",
    "                        tokens.append(\".\")\n",
    "                        tags.append(other_cat)\n",
    "                        clidxs.append(other_cat)\n",
    "                else:\n",
    "                    res_info[\"tokens\"].append(\" \".join(tok))\n",
    "                    res_info[\"tags\"].append(\" \".join(tag))\n",
    "                    res_info[\"clidxs\"].append(\" \".join(clidx))\n",
    "                    res_info[\"base_forms\"].append(\" \".join(base_form))\n",
    "                    res_info[\"doc_idxs\"].append(doc_idx)\n",
    "            if len(tokens):\n",
    "                res_info[\"tokens\"].append(\" \".join(tokens))\n",
    "                res_info[\"tags\"].append(\" \".join(tags))\n",
    "                res_info[\"clidxs\"].append(\" \".join(clidxs))\n",
    "                res_info[\"base_forms\"].append(\" \".join(base_forms))\n",
    "                res_info[\"doc_idxs\"].append(doc_idx)\n",
    "    return pd.DataFrame(res_info)"
   ]
  },
  {
   "cell_type": "code",
   "execution_count": 30,
   "metadata": {},
   "outputs": [],
   "source": [
    "tr_grouped = group_sents_in_sample(tr)"
   ]
  },
  {
   "cell_type": "code",
   "execution_count": 31,
   "metadata": {},
   "outputs": [
    {
     "data": {
      "text/html": [
       "<div>\n",
       "<style scoped>\n",
       "    .dataframe tbody tr th:only-of-type {\n",
       "        vertical-align: middle;\n",
       "    }\n",
       "\n",
       "    .dataframe tbody tr th {\n",
       "        vertical-align: top;\n",
       "    }\n",
       "\n",
       "    .dataframe thead th {\n",
       "        text-align: right;\n",
       "    }\n",
       "</style>\n",
       "<table border=\"1\" class=\"dataframe\">\n",
       "  <thead>\n",
       "    <tr style=\"text-align: right;\">\n",
       "      <th></th>\n",
       "      <th>base_forms</th>\n",
       "      <th>clidxs</th>\n",
       "      <th>doc_idxs</th>\n",
       "      <th>tags</th>\n",
       "      <th>tokens</th>\n",
       "    </tr>\n",
       "  </thead>\n",
       "  <tbody>\n",
       "    <tr>\n",
       "      <th>0</th>\n",
       "      <td></td>\n",
       "      <td>B_PER-Craig-Hamilton-Parker O O O O O O O B_GP...</td>\n",
       "      <td>bg-100</td>\n",
       "      <td>B_PER O O O O O O O B_LOC O O O O B_LOC O O O ...</td>\n",
       "      <td>Паркър нашумя с прогнозите си за излизането на...</td>\n",
       "    </tr>\n",
       "    <tr>\n",
       "      <th>1</th>\n",
       "      <td></td>\n",
       "      <td>O O O O O O B_PRO-Psychic-and-Astrology-World-...</td>\n",
       "      <td>bg-100</td>\n",
       "      <td>O O O O O O B_PRO I_PRO I_PRO I_PRO I_PRO I_PR...</td>\n",
       "      <td>Той е озаглавил текста си \" Психологически и а...</td>\n",
       "    </tr>\n",
       "    <tr>\n",
       "      <th>2</th>\n",
       "      <td></td>\n",
       "      <td>O O O O O O O O O O O O O O O O O O O O O O O ...</td>\n",
       "      <td>bg-100</td>\n",
       "      <td>O O O O O O O O O O O O O O O O O O O O O O O ...</td>\n",
       "      <td>В него прогнозира , че годината ще е изпълнена...</td>\n",
       "    </tr>\n",
       "    <tr>\n",
       "      <th>3</th>\n",
       "      <td></td>\n",
       "      <td>O O O O O O O O O O O O O O O O O O O O O O O ...</td>\n",
       "      <td>bg-100</td>\n",
       "      <td>O O O O O O O O O O O O O O O O O O O O O O O ...</td>\n",
       "      <td>\" Годината ще ни поднесе безпрецедентни земетр...</td>\n",
       "    </tr>\n",
       "    <tr>\n",
       "      <th>4</th>\n",
       "      <td></td>\n",
       "      <td>O O O O O O O O O B_GPE-Iceland O O B_LOC-Vesu...</td>\n",
       "      <td>bg-100</td>\n",
       "      <td>O O O O O O O O O B_LOC O O B_LOC O O O O O O ...</td>\n",
       "      <td>Вероятно скоро ще има голямо изригване на вулк...</td>\n",
       "    </tr>\n",
       "  </tbody>\n",
       "</table>\n",
       "</div>"
      ],
      "text/plain": [
       "  base_forms                                             clidxs doc_idxs  \\\n",
       "0             B_PER-Craig-Hamilton-Parker O O O O O O O B_GP...   bg-100   \n",
       "1             O O O O O O B_PRO-Psychic-and-Astrology-World-...   bg-100   \n",
       "2             O O O O O O O O O O O O O O O O O O O O O O O ...   bg-100   \n",
       "3             O O O O O O O O O O O O O O O O O O O O O O O ...   bg-100   \n",
       "4             O O O O O O O O O B_GPE-Iceland O O B_LOC-Vesu...   bg-100   \n",
       "\n",
       "                                                tags  \\\n",
       "0  B_PER O O O O O O O B_LOC O O O O B_LOC O O O ...   \n",
       "1  O O O O O O B_PRO I_PRO I_PRO I_PRO I_PRO I_PR...   \n",
       "2  O O O O O O O O O O O O O O O O O O O O O O O ...   \n",
       "3  O O O O O O O O O O O O O O O O O O O O O O O ...   \n",
       "4  O O O O O O O O O B_LOC O O B_LOC O O O O O O ...   \n",
       "\n",
       "                                              tokens  \n",
       "0  Паркър нашумя с прогнозите си за излизането на...  \n",
       "1  Той е озаглавил текста си \" Психологически и а...  \n",
       "2  В него прогнозира , че годината ще е изпълнена...  \n",
       "3  \" Годината ще ни поднесе безпрецедентни земетр...  \n",
       "4  Вероятно скоро ще има голямо изригване на вулк...  "
      ]
     },
     "execution_count": 31,
     "metadata": {},
     "output_type": "execute_result"
    }
   ],
   "source": [
    "tr_grouped.head()"
   ]
  },
  {
   "cell_type": "code",
   "execution_count": 35,
   "metadata": {},
   "outputs": [
    {
     "data": {
      "text/plain": [
       "(22621, 19556)"
      ]
     },
     "execution_count": 35,
     "metadata": {},
     "output_type": "execute_result"
    }
   ],
   "source": [
    "len(tr), len(tr_grouped)"
   ]
  },
  {
   "cell_type": "code",
   "execution_count": 39,
   "metadata": {},
   "outputs": [],
   "source": [
    "vl_parsed = group_sents_in_sample(vl)"
   ]
  },
  {
   "cell_type": "code",
   "execution_count": 40,
   "metadata": {},
   "outputs": [
    {
     "data": {
      "text/plain": [
       "(5457, 4685)"
      ]
     },
     "execution_count": 40,
     "metadata": {},
     "output_type": "execute_result"
    }
   ],
   "source": [
    "len(vl), len(vl_parsed)"
   ]
  },
  {
   "cell_type": "markdown",
   "metadata": {},
   "source": [
    "### Main data prc"
   ]
  },
  {
   "cell_type": "code",
   "execution_count": 13,
   "metadata": {},
   "outputs": [],
   "source": [
    "from modules.data.converter import DataConverter"
   ]
  },
  {
   "cell_type": "code",
   "execution_count": 15,
   "metadata": {},
   "outputs": [],
   "source": [
    "converter = DataConverter(\"/home/eartemov/ae/work/data/training_data_v10/\", dropna=True)"
   ]
  },
  {
   "cell_type": "code",
   "execution_count": 18,
   "metadata": {},
   "outputs": [
    {
     "name": "stderr",
     "output_type": "stream",
     "text": [
      "                                                                           \r"
     ]
    }
   ],
   "source": [
    "dfs = converter.prc_data()"
   ]
  },
  {
   "cell_type": "code",
   "execution_count": 17,
   "metadata": {},
   "outputs": [
    {
     "name": "stderr",
     "output_type": "stream",
     "text": [
      "[nltk_data] Downloading package punkt to /home/eartemov/nltk_data...\n",
      "[nltk_data]   Unzipping tokenizers/punkt.zip.\n"
     ]
    },
    {
     "data": {
      "text/plain": [
       "True"
      ]
     },
     "execution_count": 17,
     "metadata": {},
     "output_type": "execute_result"
    }
   ],
   "source": [
    "# import nltk\n",
    "# nltk.download('punkt')"
   ]
  },
  {
   "cell_type": "code",
   "execution_count": 19,
   "metadata": {},
   "outputs": [
    {
     "data": {
      "text/plain": [
       "dict_keys(['brexit', 'asia_bibi'])"
      ]
     },
     "execution_count": 19,
     "metadata": {},
     "output_type": "execute_result"
    }
   ],
   "source": [
    "converter.stats.keys()"
   ]
  },
  {
   "cell_type": "code",
   "execution_count": 20,
   "metadata": {},
   "outputs": [
    {
     "data": {
      "text/plain": [
       "dict_keys(['langs', 'tokens', 'bio_tags', 'clidxs', 'tags'])"
      ]
     },
     "execution_count": 20,
     "metadata": {},
     "output_type": "execute_result"
    }
   ],
   "source": [
    "converter.stats[\"asia_bibi\"].keys()"
   ]
  },
  {
   "cell_type": "markdown",
   "metadata": {},
   "source": [
    "### Lens"
   ]
  },
  {
   "cell_type": "code",
   "execution_count": 21,
   "metadata": {},
   "outputs": [
    {
     "data": {
      "text/plain": [
       "(5473, 22699)"
      ]
     },
     "execution_count": 21,
     "metadata": {},
     "output_type": "execute_result"
    }
   ],
   "source": [
    "len(converter.res_dfs[\"asia_bibi\"]), len(converter.res_dfs[\"brexit\"])"
   ]
  },
  {
   "cell_type": "markdown",
   "metadata": {},
   "source": [
    "### Langs distrigutions"
   ]
  },
  {
   "cell_type": "code",
   "execution_count": 22,
   "metadata": {},
   "outputs": [
    {
     "data": {
      "image/png": "[encoded data removed]",
      "text/plain": [
       "<Figure size 432x288 with 1 Axes>"
      ]
     },
     "metadata": {
      "needs_background": "light"
     },
     "output_type": "display_data"
    }
   ],
   "source": [
    "plt.bar(\n",
    "    list(converter.stats[\"asia_bibi\"][\"langs\"].keys()),\n",
    "    height=list(converter.stats[\"asia_bibi\"][\"langs\"].values()))\n",
    "_ = plt.title(\"asia_bibi\")"
   ]
  },
  {
   "cell_type": "code",
   "execution_count": 23,
   "metadata": {},
   "outputs": [
    {
     "data": {
      "image/png": "[encoded data removed]",
      "text/plain": [
       "<Figure size 432x288 with 1 Axes>"
      ]
     },
     "metadata": {
      "needs_background": "light"
     },
     "output_type": "display_data"
    }
   ],
   "source": [
    "plt.bar(\n",
    "    list(converter.stats[\"brexit\"][\"langs\"].keys()),\n",
    "    height=list(converter.stats[\"brexit\"][\"langs\"].values()))\n",
    "_ = plt.title(\"brexit\")"
   ]
  },
  {
   "cell_type": "markdown",
   "metadata": {},
   "source": [
    "### Tags distrigutions"
   ]
  },
  {
   "cell_type": "code",
   "execution_count": 24,
   "metadata": {},
   "outputs": [],
   "source": [
    "_ = converter.stats[\"asia_bibi\"][\"tags\"].pop(\"O\", None)"
   ]
  },
  {
   "cell_type": "code",
   "execution_count": 25,
   "metadata": {},
   "outputs": [
    {
     "data": {
      "image/png": "[encoded data removed]",
      "text/plain": [
       "<Figure size 432x288 with 1 Axes>"
      ]
     },
     "metadata": {
      "needs_background": "light"
     },
     "output_type": "display_data"
    }
   ],
   "source": [
    "plt.bar(\n",
    "    list(converter.stats[\"asia_bibi\"][\"tags\"].keys()),\n",
    "    height=list(converter.stats[\"asia_bibi\"][\"tags\"].values()))\n",
    "_ = plt.title(\"asia_bibi\")"
   ]
  },
  {
   "cell_type": "code",
   "execution_count": 26,
   "metadata": {},
   "outputs": [],
   "source": [
    "_ = converter.stats[\"brexit\"][\"tags\"].pop(\"O\", None)"
   ]
  },
  {
   "cell_type": "code",
   "execution_count": 27,
   "metadata": {},
   "outputs": [
    {
     "data": {
      "image/png": "[encoded data removed]",
      "text/plain": [
       "<Figure size 432x288 with 1 Axes>"
      ]
     },
     "metadata": {
      "needs_background": "light"
     },
     "output_type": "display_data"
    }
   ],
   "source": [
    "plt.bar(\n",
    "    list(converter.stats[\"brexit\"][\"tags\"].keys()),\n",
    "    height=list(converter.stats[\"brexit\"][\"tags\"].values()))\n",
    "_ = plt.title(\"brexit\")"
   ]
  },
  {
   "cell_type": "markdown",
   "metadata": {},
   "source": [
    "### To own format"
   ]
  },
  {
   "cell_type": "code",
   "execution_count": 36,
   "metadata": {},
   "outputs": [],
   "source": [
    "tr = pd.read_csv(train_path)\n",
    "tr = tr.dropna()"
   ]
  },
  {
   "cell_type": "code",
   "execution_count": 37,
   "metadata": {},
   "outputs": [],
   "source": [
    "vl = pd.read_csv(valid_path)\n",
    "vl = vl.dropna()"
   ]
  },
  {
   "cell_type": "code",
   "execution_count": 38,
   "metadata": {},
   "outputs": [],
   "source": [
    "pd.DataFrame({\n",
    "    \"0\": tr.tags,\n",
    "    \"1\": tr.tokens,\n",
    "    \"2\": [l[:2] for l in list(tr.doc_idxs)]}).to_csv(data_dir+\"brexit_parsed.csv\", index=False)"
   ]
  },
  {
   "cell_type": "code",
   "execution_count": 46,
   "metadata": {},
   "outputs": [],
   "source": [
    "pd.DataFrame({\n",
    "    \"0\": vl.tags,\n",
    "    \"1\": vl.tokens,\n",
    "    \"2\": [l[:2] for l in list(vl.doc_idxs)]}).to_csv(data_dir+\"asia_bibi_parsed.csv\", index=False)"
   ]
  }
 ],
 "metadata": {
  "kernelspec": {
   "display_name": "Python 3",
   "language": "python",
   "name": "python3"
  },
  "language_info": {
   "codemirror_mode": {
    "name": "ipython",
    "version": 3
   },
   "file_extension": ".py",
   "mimetype": "text/x-python",
   "name": "python",
   "nbconvert_exporter": "python",
   "pygments_lexer": "ipython3",
   "version": "3.6.8"
  }
 },
 "nbformat": 4,
 "nbformat_minor": 2
}
