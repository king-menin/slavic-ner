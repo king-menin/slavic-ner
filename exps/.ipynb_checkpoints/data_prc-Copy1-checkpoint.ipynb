{
 "cells": [
  {
   "cell_type": "code",
   "execution_count": 1,
   "metadata": {},
   "outputs": [
    {
     "name": "stdout",
     "output_type": "stream",
     "text": [
      "Populating the interactive namespace from numpy and matplotlib\n"
     ]
    }
   ],
   "source": [
    "%load_ext autoreload\n",
    "\n",
    "%autoreload 2\n",
    "%pylab inline\n",
    "from matplotlib import pyplot as plt"
   ]
  },
  {
   "cell_type": "code",
   "execution_count": 2,
   "metadata": {},
   "outputs": [],
   "source": [
    "import pandas as pd"
   ]
  },
  {
   "cell_type": "code",
   "execution_count": 47,
   "metadata": {},
   "outputs": [],
   "source": [
    "data_dir = \"/data/aaemeljanov/training_data_v10/processed/\"\n",
    "train_path = data_dir + \"brexit.csv\"\n",
    "valid_path = data_dir + \"asia_bibi.csv\""
   ]
  },
  {
   "cell_type": "code",
   "execution_count": 4,
   "metadata": {},
   "outputs": [],
   "source": [
    "tr = pd.read_csv(train_path)"
   ]
  },
  {
   "cell_type": "code",
   "execution_count": 18,
   "metadata": {},
   "outputs": [],
   "source": [
    "tr = tr.dropna()"
   ]
  },
  {
   "cell_type": "code",
   "execution_count": 19,
   "metadata": {},
   "outputs": [
    {
     "data": {
      "text/html": [
       "<div>\n",
       "<style scoped>\n",
       "    .dataframe tbody tr th:only-of-type {\n",
       "        vertical-align: middle;\n",
       "    }\n",
       "\n",
       "    .dataframe tbody tr th {\n",
       "        vertical-align: top;\n",
       "    }\n",
       "\n",
       "    .dataframe thead th {\n",
       "        text-align: right;\n",
       "    }\n",
       "</style>\n",
       "<table border=\"1\" class=\"dataframe\">\n",
       "  <thead>\n",
       "    <tr style=\"text-align: right;\">\n",
       "      <th></th>\n",
       "      <th>doc_idxs</th>\n",
       "      <th>tokens</th>\n",
       "      <th>tags</th>\n",
       "      <th>clidxs</th>\n",
       "      <th>base_forms</th>\n",
       "    </tr>\n",
       "  </thead>\n",
       "  <tbody>\n",
       "    <tr>\n",
       "      <th>1</th>\n",
       "      <td>bg-261</td>\n",
       "      <td>02.01.2018 14.13 Глобалният бизнес оптимизъм с...</td>\n",
       "      <td>O O O O O O O O O O O O O O O O O O O O O O O ...</td>\n",
       "      <td>O O O O O O O O O O O O O O O O O O O O O O O ...</td>\n",
       "      <td>O O O O O O O O O O O O O O O O O O O O O O O ...</td>\n",
       "    </tr>\n",
       "    <tr>\n",
       "      <th>2</th>\n",
       "      <td>bg-261</td>\n",
       "      <td>В своя тримесечен \" Международен бизнес доклад...</td>\n",
       "      <td>O O O O O O O O O O O O O O O O O O O O O O O ...</td>\n",
       "      <td>O O O O O O O O O O O O O O O O O O O O O O O ...</td>\n",
       "      <td>O O O O O O O O O O O O O O O O O O O O O O O ...</td>\n",
       "    </tr>\n",
       "    <tr>\n",
       "      <th>3</th>\n",
       "      <td>bg-261</td>\n",
       "      <td>Тази позитивна настройка отразява широко разпр...</td>\n",
       "      <td>O O O O O O O O O O O O O O O O O O O O</td>\n",
       "      <td>O O O O O O O O O O O O O O O O O O O O</td>\n",
       "      <td>O O O O O O O O O O O O O O O O O O O O</td>\n",
       "    </tr>\n",
       "    <tr>\n",
       "      <th>4</th>\n",
       "      <td>bg-261</td>\n",
       "      <td>Докладът също така отчита , че делът на фирмит...</td>\n",
       "      <td>O O O O O O O O O O O O O O O O O O O O O O O ...</td>\n",
       "      <td>O O O O O O O O O O O O O O O O O O O O O O O ...</td>\n",
       "      <td>O O O O O O O O O O O O O O O O O O O O O O O ...</td>\n",
       "    </tr>\n",
       "    <tr>\n",
       "      <th>5</th>\n",
       "      <td>bg-261</td>\n",
       "      <td>За разлика от това доста позитивно проучване в...</td>\n",
       "      <td>O O O O O O O O O O O O O O O O O O O O O O</td>\n",
       "      <td>O O O O O O O O O O O O O O O O O O O O O O</td>\n",
       "      <td>O O O O O O O O O O O O O O O O O O O O O O</td>\n",
       "    </tr>\n",
       "  </tbody>\n",
       "</table>\n",
       "</div>"
      ],
      "text/plain": [
       "  doc_idxs                                             tokens  \\\n",
       "1   bg-261  02.01.2018 14.13 Глобалният бизнес оптимизъм с...   \n",
       "2   bg-261  В своя тримесечен \" Международен бизнес доклад...   \n",
       "3   bg-261  Тази позитивна настройка отразява широко разпр...   \n",
       "4   bg-261  Докладът също така отчита , че делът на фирмит...   \n",
       "5   bg-261  За разлика от това доста позитивно проучване в...   \n",
       "\n",
       "                                                tags  \\\n",
       "1  O O O O O O O O O O O O O O O O O O O O O O O ...   \n",
       "2  O O O O O O O O O O O O O O O O O O O O O O O ...   \n",
       "3            O O O O O O O O O O O O O O O O O O O O   \n",
       "4  O O O O O O O O O O O O O O O O O O O O O O O ...   \n",
       "5        O O O O O O O O O O O O O O O O O O O O O O   \n",
       "\n",
       "                                              clidxs  \\\n",
       "1  O O O O O O O O O O O O O O O O O O O O O O O ...   \n",
       "2  O O O O O O O O O O O O O O O O O O O O O O O ...   \n",
       "3            O O O O O O O O O O O O O O O O O O O O   \n",
       "4  O O O O O O O O O O O O O O O O O O O O O O O ...   \n",
       "5        O O O O O O O O O O O O O O O O O O O O O O   \n",
       "\n",
       "                                          base_forms  \n",
       "1  O O O O O O O O O O O O O O O O O O O O O O O ...  \n",
       "2  O O O O O O O O O O O O O O O O O O O O O O O ...  \n",
       "3            O O O O O O O O O O O O O O O O O O O O  \n",
       "4  O O O O O O O O O O O O O O O O O O O O O O O ...  \n",
       "5        O O O O O O O O O O O O O O O O O O O O O O  "
      ]
     },
     "execution_count": 19,
     "metadata": {},
     "output_type": "execute_result"
    }
   ],
   "source": [
    "tr.head()"
   ]
  },
  {
   "cell_type": "code",
   "execution_count": 29,
   "metadata": {},
   "outputs": [],
   "source": [
    "def group_sents_in_sample(df, n_grouped=3, max_tokens_len=250, other_cat=\"O\"):\n",
    "    res_info = dict()\n",
    "    res_info[\"tokens\"] = []\n",
    "    res_info[\"tags\"] = []\n",
    "    res_info[\"clidxs\"] = []\n",
    "    res_info[\"base_forms\"] = []\n",
    "    res_info[\"doc_idxs\"] = []\n",
    "    for doc_idx, group in df.groupby(\"doc_idxs\"):\n",
    "        l = [r for _, r in group.iterrows()]\n",
    "        for grouped in list(zip(*[iter(l[idx:]) for idx in range(n_grouped)])):\n",
    "            tokens = []\n",
    "            tags = []\n",
    "            clidxs = []\n",
    "            base_forms = []\n",
    "            class G(object):\n",
    "                pass\n",
    "            g = G()\n",
    "            g.tokens = list([gg.tokens for gg in grouped])\n",
    "            g.tags = list([gg.tags for gg in grouped])\n",
    "            g.clidxs = list([gg.clidxs for gg in grouped])\n",
    "            g.base_forms = list([gg.base_forms for gg in grouped])\n",
    "            for tok, tag, clidx, base_form in zip(g.tokens, g.tags, g.clidxs, g.base_forms):\n",
    "                tok = tok.split()\n",
    "                tag = tag.split()\n",
    "                clidx = clidx.split()\n",
    "                base_form = base_form.split()\n",
    "                if len(tokens) + len(tok) < max_tokens_len:\n",
    "                    tokens.extend(tok)\n",
    "                    tags.extend(tag)\n",
    "                    clidxs.extend(clidx)\n",
    "                    if tok[-1] != \".\":\n",
    "                        tokens.append(\".\")\n",
    "                        tags.append(other_cat)\n",
    "                        clidxs.append(other_cat)\n",
    "                else:\n",
    "                    res_info[\"tokens\"].append(\" \".join(tok))\n",
    "                    res_info[\"tags\"].append(\" \".join(tag))\n",
    "                    res_info[\"clidxs\"].append(\" \".join(clidx))\n",
    "                    res_info[\"base_forms\"].append(\" \".join(base_form))\n",
    "                    res_info[\"doc_idxs\"].append(doc_idx)\n",
    "            if len(tokens):\n",
    "                res_info[\"tokens\"].append(\" \".join(tokens))\n",
    "                res_info[\"tags\"].append(\" \".join(tags))\n",
    "                res_info[\"clidxs\"].append(\" \".join(clidxs))\n",
    "                res_info[\"base_forms\"].append(\" \".join(base_forms))\n",
    "                res_info[\"doc_idxs\"].append(doc_idx)\n",
    "    return pd.DataFrame(res_info)"
   ]
  },
  {
   "cell_type": "code",
   "execution_count": 30,
   "metadata": {},
   "outputs": [],
   "source": [
    "tr_grouped = group_sents_in_sample(tr)"
   ]
  },
  {
   "cell_type": "code",
   "execution_count": 31,
   "metadata": {},
   "outputs": [
    {
     "data": {
      "text/html": [
       "<div>\n",
       "<style scoped>\n",
       "    .dataframe tbody tr th:only-of-type {\n",
       "        vertical-align: middle;\n",
       "    }\n",
       "\n",
       "    .dataframe tbody tr th {\n",
       "        vertical-align: top;\n",
       "    }\n",
       "\n",
       "    .dataframe thead th {\n",
       "        text-align: right;\n",
       "    }\n",
       "</style>\n",
       "<table border=\"1\" class=\"dataframe\">\n",
       "  <thead>\n",
       "    <tr style=\"text-align: right;\">\n",
       "      <th></th>\n",
       "      <th>base_forms</th>\n",
       "      <th>clidxs</th>\n",
       "      <th>doc_idxs</th>\n",
       "      <th>tags</th>\n",
       "      <th>tokens</th>\n",
       "    </tr>\n",
       "  </thead>\n",
       "  <tbody>\n",
       "    <tr>\n",
       "      <th>0</th>\n",
       "      <td></td>\n",
       "      <td>B_PER-Craig-Hamilton-Parker O O O O O O O B_GP...</td>\n",
       "      <td>bg-100</td>\n",
       "      <td>B_PER O O O O O O O B_LOC O O O O B_LOC O O O ...</td>\n",
       "      <td>Паркър нашумя с прогнозите си за излизането на...</td>\n",
       "    </tr>\n",
       "    <tr>\n",
       "      <th>1</th>\n",
       "      <td></td>\n",
       "      <td>O O O O O O B_PRO-Psychic-and-Astrology-World-...</td>\n",
       "      <td>bg-100</td>\n",
       "      <td>O O O O O O B_PRO I_PRO I_PRO I_PRO I_PRO I_PR...</td>\n",
       "      <td>Той е озаглавил текста си \" Психологически и а...</td>\n",
       "    </tr>\n",
       "    <tr>\n",
       "      <th>2</th>\n",
       "      <td></td>\n",
       "      <td>O O O O O O O O O O O O O O O O O O O O O O O ...</td>\n",
       "      <td>bg-100</td>\n",
       "      <td>O O O O O O O O O O O O O O O O O O O O O O O ...</td>\n",
       "      <td>В него прогнозира , че годината ще е изпълнена...</td>\n",
       "    </tr>\n",
       "    <tr>\n",
       "      <th>3</th>\n",
       "      <td></td>\n",
       "      <td>O O O O O O O O O O O O O O O O O O O O O O O ...</td>\n",
       "      <td>bg-100</td>\n",
       "      <td>O O O O O O O O O O O O O O O O O O O O O O O ...</td>\n",
       "      <td>\" Годината ще ни поднесе безпрецедентни земетр...</td>\n",
       "    </tr>\n",
       "    <tr>\n",
       "      <th>4</th>\n",
       "      <td></td>\n",
       "      <td>O O O O O O O O O B_GPE-Iceland O O B_LOC-Vesu...</td>\n",
       "      <td>bg-100</td>\n",
       "      <td>O O O O O O O O O B_LOC O O B_LOC O O O O O O ...</td>\n",
       "      <td>Вероятно скоро ще има голямо изригване на вулк...</td>\n",
       "    </tr>\n",
       "  </tbody>\n",
       "</table>\n",
       "</div>"
      ],
      "text/plain": [
       "  base_forms                                             clidxs doc_idxs  \\\n",
       "0             B_PER-Craig-Hamilton-Parker O O O O O O O B_GP...   bg-100   \n",
       "1             O O O O O O B_PRO-Psychic-and-Astrology-World-...   bg-100   \n",
       "2             O O O O O O O O O O O O O O O O O O O O O O O ...   bg-100   \n",
       "3             O O O O O O O O O O O O O O O O O O O O O O O ...   bg-100   \n",
       "4             O O O O O O O O O B_GPE-Iceland O O B_LOC-Vesu...   bg-100   \n",
       "\n",
       "                                                tags  \\\n",
       "0  B_PER O O O O O O O B_LOC O O O O B_LOC O O O ...   \n",
       "1  O O O O O O B_PRO I_PRO I_PRO I_PRO I_PRO I_PR...   \n",
       "2  O O O O O O O O O O O O O O O O O O O O O O O ...   \n",
       "3  O O O O O O O O O O O O O O O O O O O O O O O ...   \n",
       "4  O O O O O O O O O B_LOC O O B_LOC O O O O O O ...   \n",
       "\n",
       "                                              tokens  \n",
       "0  Паркър нашумя с прогнозите си за излизането на...  \n",
       "1  Той е озаглавил текста си \" Психологически и а...  \n",
       "2  В него прогнозира , че годината ще е изпълнена...  \n",
       "3  \" Годината ще ни поднесе безпрецедентни земетр...  \n",
       "4  Вероятно скоро ще има голямо изригване на вулк...  "
      ]
     },
     "execution_count": 31,
     "metadata": {},
     "output_type": "execute_result"
    }
   ],
   "source": [
    "tr_grouped.head()"
   ]
  },
  {
   "cell_type": "code",
   "execution_count": 35,
   "metadata": {},
   "outputs": [
    {
     "data": {
      "text/plain": [
       "(22621, 19556)"
      ]
     },
     "execution_count": 35,
     "metadata": {},
     "output_type": "execute_result"
    }
   ],
   "source": [
    "len(tr), len(tr_grouped)"
   ]
  },
  {
   "cell_type": "code",
   "execution_count": 38,
   "metadata": {},
   "outputs": [],
   "source": [
    "vl = pd.read_csv(valid_path)\n",
    "vl = vl.dropna()"
   ]
  },
  {
   "cell_type": "code",
   "execution_count": 39,
   "metadata": {},
   "outputs": [],
   "source": [
    "vl_parsed = group_sents_in_sample(vl)"
   ]
  },
  {
   "cell_type": "code",
   "execution_count": 40,
   "metadata": {},
   "outputs": [
    {
     "data": {
      "text/plain": [
       "(5457, 4685)"
      ]
     },
     "execution_count": 40,
     "metadata": {},
     "output_type": "execute_result"
    }
   ],
   "source": [
    "len(vl), len(vl_parsed)"
   ]
  },
  {
   "cell_type": "code",
   "execution_count": 41,
   "metadata": {},
   "outputs": [],
   "source": [
    "tr_grouped.to_csv(data_dir+\"brexit_grouped.csv\", index=False)"
   ]
  },
  {
   "cell_type": "code",
   "execution_count": 42,
   "metadata": {},
   "outputs": [],
   "source": [
    "vl_parsed.to_csv(data_dir+\"asia_bibi_grouped.csv\", index=False)"
   ]
  },
  {
   "cell_type": "code",
   "execution_count": 45,
   "metadata": {},
   "outputs": [],
   "source": [
    "pd.DataFrame({\n",
    "    \"0\": tr_grouped.tags,\n",
    "    \"1\": tr_grouped.tokens,\n",
    "    \"2\": [l[:2] for l in list(tr_grouped.doc_idxs)]}).to_csv(data_dir+\"brexit_grouped.csv\", index=False)"
   ]
  },
  {
   "cell_type": "code",
   "execution_count": 46,
   "metadata": {},
   "outputs": [],
   "source": [
    "pd.DataFrame({\n",
    "    \"0\": vl_parsed.tags,\n",
    "    \"1\": vl_parsed.tokens,\n",
    "    \"2\": [l[:2] for l in list(vl_parsed.doc_idxs)]}).to_csv(data_dir+\"asia_bibi_grouped.csv\", index=False)"
   ]
  },
  {
   "cell_type": "code",
   "execution_count": 2,
   "metadata": {},
   "outputs": [],
   "source": [
    "from modules.data.converter import DataConverter"
   ]
  },
  {
   "cell_type": "code",
   "execution_count": 3,
   "metadata": {},
   "outputs": [],
   "source": [
    "converter = DataConverter(\"/data/aaemeljanov/training_data_v10/\", dropna=True)"
   ]
  },
  {
   "cell_type": "code",
   "execution_count": 5,
   "metadata": {},
   "outputs": [],
   "source": [
    "dfs = converter.prc_data()"
   ]
  },
  {
   "cell_type": "code",
   "execution_count": 24,
   "metadata": {},
   "outputs": [
    {
     "data": {
      "text/plain": [
       "dict_keys(['brexit', 'asia_bibi'])"
      ]
     },
     "execution_count": 24,
     "metadata": {},
     "output_type": "execute_result"
    }
   ],
   "source": [
    "converter.stats.keys()"
   ]
  },
  {
   "cell_type": "code",
   "execution_count": 37,
   "metadata": {},
   "outputs": [
    {
     "data": {
      "text/plain": [
       "dict_keys(['bio_tags', 'tokens', 'clidxs', 'langs'])"
      ]
     },
     "execution_count": 37,
     "metadata": {},
     "output_type": "execute_result"
    }
   ],
   "source": [
    "converter.stats[\"asia_bibi\"].keys()"
   ]
  },
  {
   "cell_type": "markdown",
   "metadata": {},
   "source": [
    "### Lens"
   ]
  },
  {
   "cell_type": "code",
   "execution_count": 29,
   "metadata": {},
   "outputs": [
    {
     "data": {
      "text/plain": [
       "(5473, 22699)"
      ]
     },
     "execution_count": 29,
     "metadata": {},
     "output_type": "execute_result"
    }
   ],
   "source": [
    "len(converter.res_dfs[\"asia_bibi\"]), len(converter.res_dfs[\"brexit\"])"
   ]
  },
  {
   "cell_type": "markdown",
   "metadata": {},
   "source": [
    "### Langs distrigutions"
   ]
  },
  {
   "cell_type": "code",
   "execution_count": 35,
   "metadata": {},
   "outputs": [
    {
     "data": {
      "image/png": "[encoded data removed]",
      "text/plain": [
       "<Figure size 432x288 with 1 Axes>"
      ]
     },
     "metadata": {
      "needs_background": "light"
     },
     "output_type": "display_data"
    }
   ],
   "source": [
    "plt.bar(\n",
    "    list(converter.stats[\"asia_bibi\"][\"langs\"].keys()),\n",
    "    height=list(converter.stats[\"asia_bibi\"][\"langs\"].values()))\n",
    "_ = plt.title(\"asia_bibi\")"
   ]
  },
  {
   "cell_type": "code",
   "execution_count": 36,
   "metadata": {},
   "outputs": [
    {
     "data": {
      "image/png": "[encoded data removed]",
      "text/plain": [
       "<Figure size 432x288 with 1 Axes>"
      ]
     },
     "metadata": {
      "needs_background": "light"
     },
     "output_type": "display_data"
    }
   ],
   "source": [
    "plt.bar(\n",
    "    list(converter.stats[\"brexit\"][\"langs\"].keys()),\n",
    "    height=list(converter.stats[\"brexit\"][\"langs\"].values()))\n",
    "_ = plt.title(\"brexit\")"
   ]
  },
  {
   "cell_type": "markdown",
   "metadata": {},
   "source": [
    "### Tags distrigutions"
   ]
  },
  {
   "cell_type": "code",
   "execution_count": 43,
   "metadata": {},
   "outputs": [],
   "source": [
    "_ = converter.stats[\"asia_bibi\"][\"tags\"].pop(\"O\", None)"
   ]
  },
  {
   "cell_type": "code",
   "execution_count": 44,
   "metadata": {},
   "outputs": [
    {
     "data": {
      "image/png": "[encoded data removed]",
      "text/plain": [
       "<Figure size 432x288 with 1 Axes>"
      ]
     },
     "metadata": {
      "needs_background": "light"
     },
     "output_type": "display_data"
    }
   ],
   "source": [
    "plt.bar(\n",
    "    list(converter.stats[\"asia_bibi\"][\"tags\"].keys()),\n",
    "    height=list(converter.stats[\"asia_bibi\"][\"tags\"].values()))\n",
    "_ = plt.title(\"asia_bibi\")"
   ]
  },
  {
   "cell_type": "code",
   "execution_count": 46,
   "metadata": {},
   "outputs": [],
   "source": [
    "_ = converter.stats[\"brexit\"][\"tags\"].pop(\"O\", None)"
   ]
  },
  {
   "cell_type": "code",
   "execution_count": 47,
   "metadata": {},
   "outputs": [
    {
     "data": {
      "image/png": "[encoded data removed]",
      "text/plain": [
       "<Figure size 432x288 with 1 Axes>"
      ]
     },
     "metadata": {
      "needs_background": "light"
     },
     "output_type": "display_data"
    }
   ],
   "source": [
    "plt.bar(\n",
    "    list(converter.stats[\"brexit\"][\"tags\"].keys()),\n",
    "    height=list(converter.stats[\"brexit\"][\"tags\"].values()))\n",
    "_ = plt.title(\"brexit\")"
   ]
  },
  {
   "cell_type": "markdown",
   "metadata": {},
   "source": [
    "### Prc TEST"
   ]
  },
  {
   "cell_type": "code",
   "execution_count": 82,
   "metadata": {},
   "outputs": [],
   "source": [
    "from nltk import tokenize\n",
    "import os\n",
    "from pathlib import Path\n",
    "import pandas as pd\n",
    "from tqdm import tqdm\n",
    "from modules.utils import if_none\n",
    "from collections import defaultdict, Counter\n",
    "\n",
    "\n",
    "class DataConverterTest(object):\n",
    "    def __init__(\n",
    "            self, root, save_dir_name=\"processed\", annotated_prefix=\"annotated\", raw_prefix=\"raw\",\n",
    "            other_cat=\"O\", dropna=False, clear_cache=True):\n",
    "        self.root = Path(root)\n",
    "        self.save_dir_name = save_dir_name\n",
    "        self.annotated_prefix = annotated_prefix\n",
    "        self.raw_prefix = raw_prefix\n",
    "        self.toktok = tokenize.toktok.ToktokTokenizer()\n",
    "        self.word_tokenize = self.toktok.tokenize\n",
    "        self.sent_tokenize = tokenize.sent_tokenize\n",
    "        self.other_cat = other_cat\n",
    "        self.clear_cache = clear_cache\n",
    "        self.dropna = dropna\n",
    "        self.annotation_conflicts = dict()\n",
    "        self.annotation_conflicts[\"interpretation\"] = []\n",
    "        self.annotation_conflicts[\"errors\"] = []\n",
    "        self.stats = defaultdict()\n",
    "        self.res_dfs = dict()\n",
    "\n",
    "    def parse_raw(self, raw_path, sent_tokenize=None):\n",
    "        sent_tokenize = if_none(sent_tokenize, self.sent_tokenize)\n",
    "        with open(raw_path, \"r\", encoding=\"utf-8\") as sample:\n",
    "            lines = [line.strip() for line in sample.readlines()]\n",
    "            text = \" \".join(lines[6:])\n",
    "        idx, lang, date, url, title = lines[:5]\n",
    "        return idx, lang, date, url, title, text, sent_tokenize(text)\n",
    "\n",
    "    def parse_annotation(self, annotated_path):\n",
    "        annotation = dict()\n",
    "        with open(annotated_path, \"r\", encoding=\"utf-8\") as sample:\n",
    "            lines = [line.strip() for line in sample.readlines()]\n",
    "        for line in lines[1:]:\n",
    "            if len(line.split(\"\\t\")) == 4:\n",
    "                mention, base_form, cat, clidx = line.split(\"\\t\")\n",
    "                key = mention\n",
    "                clidx = \"-\".join(clidx.split())\n",
    "                if annotation.get(mention) is not None:\n",
    "                    self.annotation_conflicts[\"interpretation\"].append(\n",
    "                        {\"path\": annotated_path, \"line\": line})\n",
    "                    key = mention + \"_\" + cat\n",
    "                annotation[key] = {\"text\": mention, \"base_form\": base_form, \"cat\": cat, \"clidx\": clidx}\n",
    "        return lines[0], annotation\n",
    "\n",
    "    def match_raw_and_annotation(self, sents, annotation, word_tokenize=None, other_cat=\"O\"):\n",
    "        word_tokenize = if_none(word_tokenize, self.word_tokenize)\n",
    "        res = []\n",
    "        _ = list(map(\n",
    "            res.append,\n",
    "            list(map(lambda sent: self.match_sent_and_annotation(\n",
    "                sent, annotation, word_tokenize, other_cat), sents))))\n",
    "        return res\n",
    "\n",
    "    @staticmethod\n",
    "    def mention2bio(mention, word_tokenize, other_cat=\"O\"):\n",
    "        tokens = word_tokenize(mention[\"text\"])\n",
    "        if mention[\"cat\"] == other_cat:\n",
    "            tags = [mention[\"cat\"]] * len(tokens)\n",
    "            clidx = [mention[\"clidx\"]] * len(tokens)\n",
    "            base_tokens = [other_cat] * len(tokens)\n",
    "        else:\n",
    "            tags = [\"B_\" + mention[\"cat\"]] + [\"I_\" + mention[\"cat\"]] * (len(tokens) - 1)\n",
    "            clidx = [\"B_\" + mention[\"clidx\"]] + [\"I_\" + mention[\"clidx\"]] * (len(tokens) - 1)\n",
    "            base_tokens = word_tokenize(mention[\"base_form\"])\n",
    "        return tokens, tags, base_tokens, clidx\n",
    "\n",
    "    def match_sent_and_annotation(self, sent, annotation, word_tokenize=None, other_cat=\"O\"):\n",
    "        word_tokenize = if_none(word_tokenize, self.word_tokenize)\n",
    "        info = []\n",
    "        sent_len = len(sent)\n",
    "        pos = 0\n",
    "        prev_pos = 0\n",
    "        if annotation is not None:\n",
    "            while pos < sent_len:\n",
    "                for mention in annotation:\n",
    "                    if sent[pos:].startswith(mention):\n",
    "                        info.append({\"cat\": other_cat, \"text\": sent[prev_pos:pos], \"clidx\": other_cat})\n",
    "                        sent = sent[pos:]\n",
    "                        info.append(annotation.get(mention))\n",
    "                        pos += len(mention)\n",
    "                        prev_pos = pos\n",
    "                pos += 1\n",
    "            if prev_pos != sent_len - 1:\n",
    "                info.append({\"cat\": other_cat, \"text\": sent[prev_pos:pos], \"clidx\": other_cat})\n",
    "        else:\n",
    "            info.append({\"cat\": other_cat, \"text\": sent, \"clidx\": other_cat})\n",
    "        res_info = dict()\n",
    "        res_info[\"tokens\"] = []\n",
    "        res_info[\"tags\"] = []\n",
    "        res_info[\"clidxs\"] = []\n",
    "        res_info[\"base_forms\"] = []\n",
    "        for mention in info:\n",
    "            for token, tag, base_form, clidx in zip(*self.mention2bio(mention, word_tokenize, other_cat)):\n",
    "                res_info[\"tokens\"].append(token)\n",
    "                res_info[\"tags\"].append(tag)\n",
    "                res_info[\"base_forms\"].append(base_form)\n",
    "                res_info[\"clidxs\"].append(clidx)\n",
    "        return res_info\n",
    "\n",
    "    def prc_sample(self, raw_path, annotated_path, sent_tokenize=None, word_tokenize=None, other_cat=\"O\"):\n",
    "        sent_tokenize = if_none(sent_tokenize, self.sent_tokenize)\n",
    "        word_tokenize = if_none(word_tokenize, self.word_tokenize)\n",
    "        idx_r, lang, date, url, title, text, sents = self.parse_raw(raw_path, sent_tokenize)\n",
    "        # idx_a, annotation = self.parse_annotation(annotated_path)\n",
    "        # assert idx_r == idx_a\n",
    "        columns = [\"doc_idxs\", \"tokens\", \"tags\", \"clidxs\", \"base_forms\"]\n",
    "        res_info = dict()\n",
    "        res_info[\"doc_idxs\"] = []\n",
    "        res_info[\"tokens\"] = []\n",
    "        res_info[\"tags\"] = []\n",
    "        res_info[\"clidxs\"] = []\n",
    "        res_info[\"base_forms\"] = []\n",
    "        for info in self.match_raw_and_annotation(sents, None, word_tokenize, other_cat):\n",
    "            res_info[\"doc_idxs\"].append(str(idx_r)+\"|\"+raw_path)\n",
    "            res_info[\"tokens\"].append(\" \".join(info[\"tokens\"]))\n",
    "            res_info[\"tags\"].append(\" \".join(info[\"tags\"]))\n",
    "            res_info[\"base_forms\"].append(\" \".join(info[\"base_forms\"]))\n",
    "            res_info[\"clidxs\"].append(\" \".join(info[\"clidxs\"]))\n",
    "        return pd.DataFrame(res_info, columns=columns)\n",
    "\n",
    "    def prc_topic(self, root, topic_name,\n",
    "                  annotated_prefix=\"annotated\",\n",
    "                  raw_prefix=\"raw\",\n",
    "                  sent_tokenize=None,\n",
    "                  word_tokenize=None,\n",
    "                  other_cat=None):\n",
    "        sent_tokenize = if_none(sent_tokenize, self.sent_tokenize)\n",
    "        word_tokenize = if_none(word_tokenize, self.word_tokenize)\n",
    "        other_cat = if_none(other_cat, self.other_cat)\n",
    "        df = pd.DataFrame(columns=[\"doc_idxs\", \"tokens\", \"tags\", \"clidxs\", \"base_forms\"])\n",
    "        for lang in os.listdir(str(root/raw_prefix/topic_name)):\n",
    "            files = os.listdir(str(root/raw_prefix/topic_name/lang))\n",
    "            for file_name in tqdm(files, total=len(files), leave=False,\n",
    "                                  desc=\"cat: {}, lang: {}\".format(topic_name, lang)):\n",
    "                annotated_path = str(root/annotated_prefix/topic_name/lang/file_name)\n",
    "                raw_path = str(root/raw_prefix/topic_name/lang/file_name[:-3]) + \"txt\"\n",
    "                # try:\n",
    "                #     df = df.append(\n",
    "                #         self.prc_sample(raw_path, annotated_path, sent_tokenize, word_tokenize, other_cat)\n",
    "                #     )\n",
    "                # except ValueError:\n",
    "                #     print(\"ValueError in path: {}\".format(annotated_path))\n",
    "                df = df.append(\n",
    "                        self.prc_sample(raw_path, annotated_path, sent_tokenize, word_tokenize, other_cat)\n",
    "                    )\n",
    "\n",
    "        return df\n",
    "\n",
    "    def prc_data(self, root=None,\n",
    "                 save_dir_name=\"processed\",\n",
    "                 annotated_prefix=\"annotated\",\n",
    "                 raw_prefix=\"raw\",\n",
    "                 sent_tokenize=None,\n",
    "                 word_tokenize=None,\n",
    "                 other_cat=\"O\"):\n",
    "        self.res_dfs = dict()\n",
    "        root = if_none(root, self.root)\n",
    "        sent_tokenize = if_none(sent_tokenize, self.sent_tokenize)\n",
    "        word_tokenize = if_none(word_tokenize, self.word_tokenize)\n",
    "        for topic_name in os.listdir(str(root/raw_prefix)):\n",
    "            save_path = str(root/save_dir_name/topic_name) + \".csv\"\n",
    "            if self.clear_cache or not os.path.exists(save_path):\n",
    "                df = self.prc_topic(\n",
    "                    root, topic_name, annotated_prefix, raw_prefix,\n",
    "                    sent_tokenize, word_tokenize, other_cat)\n",
    "                if not os.path.exists(str(root/save_dir_name)):\n",
    "                    os.mkdir(str(root/save_dir_name))\n",
    "                if self.dropna:\n",
    "                    df = df.dropna()\n",
    "                df.to_csv(save_path, index=False)\n",
    "            else:\n",
    "                df = pd.read_csv(save_path)\n",
    "            self.stats[topic_name] = self.get_stats(df, other_cat)\n",
    "            self.res_dfs[topic_name] = df\n",
    "        return self.res_dfs\n",
    "\n",
    "    @staticmethod\n",
    "    def get_stats(df, other_cat=\"O\"):\n",
    "        langs = Counter(list(df.doc_idxs.apply(lambda x: x[:2])))\n",
    "        tokens = Counter()\n",
    "        _ = df.tokens.apply(lambda x: tokens.update(x.split()))\n",
    "        bio_tags = Counter()\n",
    "        _ = df.tags.apply(lambda x: bio_tags.update(x.split()))\n",
    "        tags = Counter()\n",
    "        _ = df.tags.apply(lambda x: tags.update([tag[2:] if tag != other_cat else tag for tag in x.split()]))\n",
    "        clidxs = Counter()\n",
    "        _ = df.clidxs.apply(lambda x: clidxs.update(x.split()))\n",
    "\n",
    "        return {\"langs\": langs, \"tokens\": tokens, \"bio_tags\": bio_tags, \"clidxs\": clidxs, \"tags\": tags}\n"
   ]
  },
  {
   "cell_type": "code",
   "execution_count": 93,
   "metadata": {},
   "outputs": [],
   "source": [
    "converter = DataConverterTest(\"/home/aaemeljanov/data/\", dropna=False)"
   ]
  },
  {
   "cell_type": "code",
   "execution_count": 94,
   "metadata": {},
   "outputs": [
    {
     "name": "stderr",
     "output_type": "stream",
     "text": [
      "                                                                              \r"
     ]
    }
   ],
   "source": [
    "dfs = converter.prc_data()"
   ]
  },
  {
   "cell_type": "code",
   "execution_count": 95,
   "metadata": {},
   "outputs": [
    {
     "data": {
      "text/plain": [
       "dict_keys(['nord_stream', 'ryanair'])"
      ]
     },
     "execution_count": 95,
     "metadata": {},
     "output_type": "execute_result"
    }
   ],
   "source": [
    "converter.stats.keys()"
   ]
  },
  {
   "cell_type": "code",
   "execution_count": 96,
   "metadata": {},
   "outputs": [
    {
     "data": {
      "text/plain": [
       "dict_keys(['langs', 'clidxs', 'tokens', 'tags', 'bio_tags'])"
      ]
     },
     "execution_count": 96,
     "metadata": {},
     "output_type": "execute_result"
    }
   ],
   "source": [
    "converter.stats[\"nord_stream\"].keys()"
   ]
  },
  {
   "cell_type": "markdown",
   "metadata": {},
   "source": [
    "### Lens"
   ]
  },
  {
   "cell_type": "code",
   "execution_count": 97,
   "metadata": {},
   "outputs": [
    {
     "data": {
      "text/plain": [
       "(6847, 5957)"
      ]
     },
     "execution_count": 97,
     "metadata": {},
     "output_type": "execute_result"
    }
   ],
   "source": [
    "len(converter.res_dfs[\"nord_stream\"]), len(converter.res_dfs[\"ryanair\"])"
   ]
  },
  {
   "cell_type": "markdown",
   "metadata": {},
   "source": [
    "### Langs distrigutions"
   ]
  },
  {
   "cell_type": "code",
   "execution_count": 98,
   "metadata": {},
   "outputs": [
    {
     "data": {
      "image/png": "[encoded data removed]",
      "text/plain": [
       "<Figure size 432x288 with 1 Axes>"
      ]
     },
     "metadata": {
      "needs_background": "light"
     },
     "output_type": "display_data"
    }
   ],
   "source": [
    "plt.bar(\n",
    "    list(converter.stats[\"nord_stream\"][\"langs\"].keys()),\n",
    "    height=list(converter.stats[\"nord_stream\"][\"langs\"].values()))\n",
    "_ = plt.title(\"nord_stream\")"
   ]
  },
  {
   "cell_type": "code",
   "execution_count": 99,
   "metadata": {},
   "outputs": [
    {
     "data": {
      "image/png": "[encoded data removed]",
      "text/plain": [
       "<Figure size 432x288 with 1 Axes>"
      ]
     },
     "metadata": {
      "needs_background": "light"
     },
     "output_type": "display_data"
    }
   ],
   "source": [
    "plt.bar(\n",
    "    list(converter.stats[\"ryanair\"][\"langs\"].keys()),\n",
    "    height=list(converter.stats[\"ryanair\"][\"langs\"].values()))\n",
    "_ = plt.title(\"ryanair\")"
   ]
  },
  {
   "cell_type": "code",
   "execution_count": 100,
   "metadata": {},
   "outputs": [
    {
     "data": {
      "text/html": [
       "<div>\n",
       "<style scoped>\n",
       "    .dataframe tbody tr th:only-of-type {\n",
       "        vertical-align: middle;\n",
       "    }\n",
       "\n",
       "    .dataframe tbody tr th {\n",
       "        vertical-align: top;\n",
       "    }\n",
       "\n",
       "    .dataframe thead th {\n",
       "        text-align: right;\n",
       "    }\n",
       "</style>\n",
       "<table border=\"1\" class=\"dataframe\">\n",
       "  <thead>\n",
       "    <tr style=\"text-align: right;\">\n",
       "      <th></th>\n",
       "      <th>doc_idxs</th>\n",
       "      <th>tokens</th>\n",
       "      <th>tags</th>\n",
       "      <th>clidxs</th>\n",
       "      <th>base_forms</th>\n",
       "    </tr>\n",
       "  </thead>\n",
       "  <tbody>\n",
       "    <tr>\n",
       "      <th>0</th>\n",
       "      <td>cs-2008|/home/aaemeljanov/data/raw/ryanair/cs/...</td>\n",
       "      <td>Další stovky letů naplánovaných na neděli ruší...</td>\n",
       "      <td>O O O O O O O O O O O O O O O</td>\n",
       "      <td>O O O O O O O O O O O O O O O</td>\n",
       "      <td>O O O O O O O O O O O O O O O</td>\n",
       "    </tr>\n",
       "    <tr>\n",
       "      <th>1</th>\n",
       "      <td>cs-2008|/home/aaemeljanov/data/raw/ryanair/cs/...</td>\n",
       "      <td>Po celé Skandinávii tak bude zrušeno 587 letů ...</td>\n",
       "      <td>O O O O O O O O O O O O O O O O O O O O O O O</td>\n",
       "      <td>O O O O O O O O O O O O O O O O O O O O O O O</td>\n",
       "      <td>O O O O O O O O O O O O O O O O O O O O O O O</td>\n",
       "    </tr>\n",
       "    <tr>\n",
       "      <th>2</th>\n",
       "      <td>cs-2008|/home/aaemeljanov/data/raw/ryanair/cs/...</td>\n",
       "      <td>K rušeným spojům patří i ty na trase Praha-Oslo .</td>\n",
       "      <td>O O O O O O O O O O</td>\n",
       "      <td>O O O O O O O O O O</td>\n",
       "      <td>O O O O O O O O O O</td>\n",
       "    </tr>\n",
       "    <tr>\n",
       "      <th>3</th>\n",
       "      <td>cs-2008|/home/aaemeljanov/data/raw/ryanair/cs/...</td>\n",
       "      <td>Časově neohraničená stávka pilotů v sobotu vst...</td>\n",
       "      <td>O O O O O O O O O O O</td>\n",
       "      <td>O O O O O O O O O O O</td>\n",
       "      <td>O O O O O O O O O O O</td>\n",
       "    </tr>\n",
       "    <tr>\n",
       "      <th>4</th>\n",
       "      <td>cs-2008|/home/aaemeljanov/data/raw/ryanair/cs/...</td>\n",
       "      <td>Vyjednávání o výši platů a pracovní době se za...</td>\n",
       "      <td>O O O O O O O O O O O O O</td>\n",
       "      <td>O O O O O O O O O O O O O</td>\n",
       "      <td>O O O O O O O O O O O O O</td>\n",
       "    </tr>\n",
       "    <tr>\n",
       "      <th>5</th>\n",
       "      <td>cs-2008|/home/aaemeljanov/data/raw/ryanair/cs/...</td>\n",
       "      <td>O víkendu se tak neuskuteční kolem 70 procent ...</td>\n",
       "      <td>O O O O O O O O O O O O O O O O O O O O O</td>\n",
       "      <td>O O O O O O O O O O O O O O O O O O O O O</td>\n",
       "      <td>O O O O O O O O O O O O O O O O O O O O O</td>\n",
       "    </tr>\n",
       "    <tr>\n",
       "      <th>6</th>\n",
       "      <td>cs-2008|/home/aaemeljanov/data/raw/ryanair/cs/...</td>\n",
       "      <td>Klienti SAS se o svém letu mohou informovat na...</td>\n",
       "      <td>O O O O O O O O O O O O O</td>\n",
       "      <td>O O O O O O O O O O O O O</td>\n",
       "      <td>O O O O O O O O O O O O O</td>\n",
       "    </tr>\n",
       "    <tr>\n",
       "      <th>7</th>\n",
       "      <td>cs-2008|/home/aaemeljanov/data/raw/ryanair/cs/...</td>\n",
       "      <td>Podle jejích informací by se sobotní let z Pra...</td>\n",
       "      <td>O O O O O O O O O O O O O O O O O O O O O O O ...</td>\n",
       "      <td>O O O O O O O O O O O O O O O O O O O O O O O ...</td>\n",
       "      <td>O O O O O O O O O O O O O O O O O O O O O O O ...</td>\n",
       "    </tr>\n",
       "    <tr>\n",
       "      <th>8</th>\n",
       "      <td>cs-2008|/home/aaemeljanov/data/raw/ryanair/cs/...</td>\n",
       "      <td>Stejně tak poletí podle plánu spoj ze Stockhol...</td>\n",
       "      <td>O O O O O O O O O O O O O O O O O O O O O O O ...</td>\n",
       "      <td>O O O O O O O O O O O O O O O O O O O O O O O ...</td>\n",
       "      <td>O O O O O O O O O O O O O O O O O O O O O O O ...</td>\n",
       "    </tr>\n",
       "    <tr>\n",
       "      <th>0</th>\n",
       "      <td>cz-122|/home/aaemeljanov/data/raw/ryanair/cs/r...</td>\n",
       "      <td>Loni v prosinci Ryanair dokázal odvrátit rozsá...</td>\n",
       "      <td>O O O O O O O O O O O O O O O O O O O O O</td>\n",
       "      <td>O O O O O O O O O O O O O O O O O O O O O</td>\n",
       "      <td>O O O O O O O O O O O O O O O O O O O O O</td>\n",
       "    </tr>\n",
       "  </tbody>\n",
       "</table>\n",
       "</div>"
      ],
      "text/plain": [
       "                                            doc_idxs  \\\n",
       "0  cs-2008|/home/aaemeljanov/data/raw/ryanair/cs/...   \n",
       "1  cs-2008|/home/aaemeljanov/data/raw/ryanair/cs/...   \n",
       "2  cs-2008|/home/aaemeljanov/data/raw/ryanair/cs/...   \n",
       "3  cs-2008|/home/aaemeljanov/data/raw/ryanair/cs/...   \n",
       "4  cs-2008|/home/aaemeljanov/data/raw/ryanair/cs/...   \n",
       "5  cs-2008|/home/aaemeljanov/data/raw/ryanair/cs/...   \n",
       "6  cs-2008|/home/aaemeljanov/data/raw/ryanair/cs/...   \n",
       "7  cs-2008|/home/aaemeljanov/data/raw/ryanair/cs/...   \n",
       "8  cs-2008|/home/aaemeljanov/data/raw/ryanair/cs/...   \n",
       "0  cz-122|/home/aaemeljanov/data/raw/ryanair/cs/r...   \n",
       "\n",
       "                                              tokens  \\\n",
       "0  Další stovky letů naplánovaných na neděli ruší...   \n",
       "1  Po celé Skandinávii tak bude zrušeno 587 letů ...   \n",
       "2  K rušeným spojům patří i ty na trase Praha-Oslo .   \n",
       "3  Časově neohraničená stávka pilotů v sobotu vst...   \n",
       "4  Vyjednávání o výši platů a pracovní době se za...   \n",
       "5  O víkendu se tak neuskuteční kolem 70 procent ...   \n",
       "6  Klienti SAS se o svém letu mohou informovat na...   \n",
       "7  Podle jejích informací by se sobotní let z Pra...   \n",
       "8  Stejně tak poletí podle plánu spoj ze Stockhol...   \n",
       "0  Loni v prosinci Ryanair dokázal odvrátit rozsá...   \n",
       "\n",
       "                                                tags  \\\n",
       "0                      O O O O O O O O O O O O O O O   \n",
       "1      O O O O O O O O O O O O O O O O O O O O O O O   \n",
       "2                                O O O O O O O O O O   \n",
       "3                              O O O O O O O O O O O   \n",
       "4                          O O O O O O O O O O O O O   \n",
       "5          O O O O O O O O O O O O O O O O O O O O O   \n",
       "6                          O O O O O O O O O O O O O   \n",
       "7  O O O O O O O O O O O O O O O O O O O O O O O ...   \n",
       "8  O O O O O O O O O O O O O O O O O O O O O O O ...   \n",
       "0          O O O O O O O O O O O O O O O O O O O O O   \n",
       "\n",
       "                                              clidxs  \\\n",
       "0                      O O O O O O O O O O O O O O O   \n",
       "1      O O O O O O O O O O O O O O O O O O O O O O O   \n",
       "2                                O O O O O O O O O O   \n",
       "3                              O O O O O O O O O O O   \n",
       "4                          O O O O O O O O O O O O O   \n",
       "5          O O O O O O O O O O O O O O O O O O O O O   \n",
       "6                          O O O O O O O O O O O O O   \n",
       "7  O O O O O O O O O O O O O O O O O O O O O O O ...   \n",
       "8  O O O O O O O O O O O O O O O O O O O O O O O ...   \n",
       "0          O O O O O O O O O O O O O O O O O O O O O   \n",
       "\n",
       "                                          base_forms  \n",
       "0                      O O O O O O O O O O O O O O O  \n",
       "1      O O O O O O O O O O O O O O O O O O O O O O O  \n",
       "2                                O O O O O O O O O O  \n",
       "3                              O O O O O O O O O O O  \n",
       "4                          O O O O O O O O O O O O O  \n",
       "5          O O O O O O O O O O O O O O O O O O O O O  \n",
       "6                          O O O O O O O O O O O O O  \n",
       "7  O O O O O O O O O O O O O O O O O O O O O O O ...  \n",
       "8  O O O O O O O O O O O O O O O O O O O O O O O ...  \n",
       "0          O O O O O O O O O O O O O O O O O O O O O  "
      ]
     },
     "execution_count": 100,
     "metadata": {},
     "output_type": "execute_result"
    }
   ],
   "source": [
    "dfs[\"ryanair\"].head(10)"
   ]
  },
  {
   "cell_type": "code",
   "execution_count": 102,
   "metadata": {},
   "outputs": [],
   "source": [
    "df_all = dfs[\"ryanair\"].append(dfs[\"nord_stream\"])"
   ]
  },
  {
   "cell_type": "code",
   "execution_count": 109,
   "metadata": {},
   "outputs": [],
   "source": [
    "test_df = pd.DataFrame({\n",
    "    \"0\": df_all.tags,\n",
    "    \"1\": df_all.tokens,\n",
    "    \"2\": [\"O\"] * len(df_all),\n",
    "    \"path\": df_all.doc_idxs\n",
    "})"
   ]
  },
  {
   "cell_type": "code",
   "execution_count": 110,
   "metadata": {},
   "outputs": [
    {
     "data": {
      "text/plain": [
       "(12804, 12804)"
      ]
     },
     "execution_count": 110,
     "metadata": {},
     "output_type": "execute_result"
    }
   ],
   "source": [
    "len(test_df), len(dfs[\"ryanair\"]) + len(dfs[\"nord_stream\"])"
   ]
  },
  {
   "cell_type": "code",
   "execution_count": 111,
   "metadata": {},
   "outputs": [],
   "source": [
    "test_df.to_csv(\"/data/aaemeljanov/training_data_v10/processed/test.csv\", index=False)"
   ]
  },
  {
   "cell_type": "code",
   "execution_count": null,
   "metadata": {},
   "outputs": [],
   "source": []
  }
 ],
 "metadata": {
  "kernelspec": {
   "display_name": "venv",
   "language": "python",
   "name": "venv"
  },
  "language_info": {
   "codemirror_mode": {
    "name": "ipython",
    "version": 3
   },
   "file_extension": ".py",
   "mimetype": "text/x-python",
   "name": "python",
   "nbconvert_exporter": "python",
   "pygments_lexer": "ipython3",
   "version": "3.5.2"
  }
 },
 "nbformat": 4,
 "nbformat_minor": 2
}
